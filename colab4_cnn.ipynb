{
  "nbformat": 4,
  "nbformat_minor": 0,
  "metadata": {
    "colab": {
      "name": "colab3_cnn.ipynb",
      "version": "0.3.2",
      "provenance": [],
      "collapsed_sections": []
    },
    "kernelspec": {
      "name": "python3",
      "display_name": "Python 3"
    }
  },
  "cells": [
    {
      "metadata": {
        "id": "dGFfLL8JdjG4",
        "colab_type": "text"
      },
      "cell_type": "markdown",
      "source": [
        "# Colab CNN"
      ]
    },
    {
      "metadata": {
        "id": "l34wD-ju19Jd",
        "colab_type": "text"
      },
      "cell_type": "markdown",
      "source": [
        "MNIST data 로 CNN 모형 구축 및 학습"
      ]
    },
    {
      "metadata": {
        "id": "piSS8dYTdvan",
        "colab_type": "code",
        "colab": {}
      },
      "cell_type": "code",
      "source": [
        "import keras\n",
        "from keras import models, layers\n",
        "from keras.datasets import mnist\n",
        "import matplotlib.pyplot as plt\n",
        "from keras.utils import to_categorical"
      ],
      "execution_count": 0,
      "outputs": []
    },
    {
      "metadata": {
        "id": "1eQ77JCT4B2k",
        "colab_type": "text"
      },
      "cell_type": "markdown",
      "source": [
        "## Construct the models"
      ]
    },
    {
      "metadata": {
        "id": "UWVCntGA4TdO",
        "colab_type": "text"
      },
      "cell_type": "markdown",
      "source": [
        "1. model structure\n",
        "  - conv1 lyaer: (3,3) filter 32 개\n",
        "  - max pooling: (2,2)\n",
        "  - conv2 layer: (3,3) filter 64 개\n",
        "  - maxpooling: (2,2)\n",
        "  -conv2 layer: (3,3) filter 64개\n",
        "  - Flatten: **output?**\n",
        "  - Dense: ?- > 64\n",
        "  - Dense: 64-> 10 (softmax)"
      ]
    },
    {
      "metadata": {
        "id": "DsyyGSmW3qsM",
        "colab_type": "code",
        "colab": {}
      },
      "cell_type": "code",
      "source": [
        "model = models.Sequential()\n",
        "model.add(layers.Conv2D(32, (3, 3), activation='relu', input_shape=(28, 28, 1)))\n",
        "model.add(layers.MaxPooling2D((2, 2)))\n",
        "model.add(layers.Conv2D(64, (3, 3), activation='relu'))\n",
        "model.add(layers.MaxPooling2D((2, 2)))\n",
        "model.add(layers.Conv2D(64, (3, 3), activation='relu'))\n",
        "model.add(layers.Flatten())\n",
        "model.add(layers.Dense(64,activation='relu'))\n",
        "model.add(layers.Dense(10,activation='softmax'))\n"
      ],
      "execution_count": 0,
      "outputs": []
    },
    {
      "metadata": {
        "id": "IxRAz1XT44dz",
        "colab_type": "code",
        "colab": {}
      },
      "cell_type": "code",
      "source": [
        "#model.summary()"
      ],
      "execution_count": 0,
      "outputs": []
    },
    {
      "metadata": {
        "id": "Lcf1Ap2zgJO0",
        "colab_type": "text"
      },
      "cell_type": "markdown",
      "source": [
        "## Reshape Data!"
      ]
    },
    {
      "metadata": {
        "id": "PJ8UQiE-gN1k",
        "colab_type": "text"
      },
      "cell_type": "markdown",
      "source": [
        "- Normalize (0~1)\n",
        "- (28,28,1)\n",
        "- categorical output"
      ]
    },
    {
      "metadata": {
        "id": "oj8RntHCgLlG",
        "colab_type": "code",
        "colab": {}
      },
      "cell_type": "code",
      "source": [
        "(images,labels),(test_images, test_labels) = mnist.load_data()\n",
        "images = images.reshape((-1,28,28,1))\n",
        "images = images.astype('float32')/255\n",
        "train_images = images[:50000]\n",
        "val_images = images[50000:]\n",
        "\n",
        "test_images = test_images.reshape((-1, 28, 28, 1))\n",
        "test_images = test_images.astype('float32') / 255\n",
        "\n",
        "labels = to_categorical(labels)\n",
        "train_labels = labels[:50000]\n",
        "val_labels = labels[50000:]\n",
        "test_labels = to_categorical(test_labels)"
      ],
      "execution_count": 0,
      "outputs": []
    },
    {
      "metadata": {
        "id": "5OnEx6pDgaWs",
        "colab_type": "code",
        "colab": {
          "base_uri": "https://localhost:8080/",
          "height": 34
        },
        "outputId": "041b35c6-2fdb-4f88-c89b-9d06de9ec26e"
      },
      "cell_type": "code",
      "source": [
        "print(train_images.shape)"
      ],
      "execution_count": 14,
      "outputs": [
        {
          "output_type": "stream",
          "text": [
            "(60000, 28, 28, 1)\n"
          ],
          "name": "stdout"
        }
      ]
    },
    {
      "metadata": {
        "id": "fVc2824Wg7KA",
        "colab_type": "text"
      },
      "cell_type": "markdown",
      "source": [
        "## Construct loss function"
      ]
    },
    {
      "metadata": {
        "id": "aPbWivYlgdwD",
        "colab_type": "code",
        "colab": {
          "base_uri": "https://localhost:8080/",
          "height": 241
        },
        "outputId": "16a66e41-3c02-4511-dce8-6f4293593947"
      },
      "cell_type": "code",
      "source": [
        "model.compile(optimizer='rmsprop',\n",
        "             loss = 'categorical_crossentropy',\n",
        "             metrics = ['accuracy'])\n",
        "model.fit(train_images, train_labels, epochs=5, batch_size = 64, validation_data=(val_images, val_labels))"
      ],
      "execution_count": 27,
      "outputs": [
        {
          "output_type": "stream",
          "text": [
            "Train on 50000 samples, validate on 10000 samples\n",
            "Epoch 1/5\n",
            "50000/50000 [==============================] - 51s 1ms/step - loss: 0.0174 - acc: 0.9949 - val_loss: 0.0137 - val_acc: 0.9964\n",
            "Epoch 2/5\n",
            "50000/50000 [==============================] - 51s 1ms/step - loss: 0.0139 - acc: 0.9958 - val_loss: 0.0162 - val_acc: 0.9960\n",
            "Epoch 3/5\n",
            "50000/50000 [==============================] - 50s 1ms/step - loss: 0.0110 - acc: 0.9967 - val_loss: 0.0183 - val_acc: 0.9958\n",
            "Epoch 4/5\n",
            "50000/50000 [==============================] - 50s 1ms/step - loss: 0.0102 - acc: 0.9968 - val_loss: 0.0206 - val_acc: 0.9950\n",
            "Epoch 5/5\n",
            "50000/50000 [==============================] - 50s 1ms/step - loss: 0.0085 - acc: 0.9973 - val_loss: 0.0264 - val_acc: 0.9942\n"
          ],
          "name": "stdout"
        },
        {
          "output_type": "execute_result",
          "data": {
            "text/plain": [
              "<keras.callbacks.History at 0x7f51e7132ef0>"
            ]
          },
          "metadata": {
            "tags": []
          },
          "execution_count": 27
        }
      ]
    },
    {
      "metadata": {
        "id": "VrS8tK-RhN-V",
        "colab_type": "code",
        "colab": {
          "base_uri": "https://localhost:8080/",
          "height": 34
        },
        "outputId": "d382bb14-762b-41ae-e5fd-2bed0bd7a43c"
      },
      "cell_type": "code",
      "source": [
        "test_loss, test_acc = model.evaluate(test_images, test_labels)"
      ],
      "execution_count": 28,
      "outputs": [
        {
          "output_type": "stream",
          "text": [
            "10000/10000 [==============================] - 3s 301us/step\n"
          ],
          "name": "stdout"
        }
      ]
    },
    {
      "metadata": {
        "id": "KM6lq-jkheb_",
        "colab_type": "code",
        "colab": {
          "base_uri": "https://localhost:8080/",
          "height": 34
        },
        "outputId": "ac176717-e18c-48e6-c51f-044a33957645"
      },
      "cell_type": "code",
      "source": [
        "test_acc"
      ],
      "execution_count": 29,
      "outputs": [
        {
          "output_type": "execute_result",
          "data": {
            "text/plain": [
              "0.9915"
            ]
          },
          "metadata": {
            "tags": []
          },
          "execution_count": 29
        }
      ]
    },
    {
      "metadata": {
        "id": "0Bq3W-q6i2UZ",
        "colab_type": "code",
        "colab": {
          "base_uri": "https://localhost:8080/",
          "height": 221
        },
        "outputId": "1f4b8315-d1d4-4ed6-d9c0-72e1abc288c3"
      },
      "cell_type": "code",
      "source": [
        "model.history.history"
      ],
      "execution_count": 30,
      "outputs": [
        {
          "output_type": "execute_result",
          "data": {
            "text/plain": [
              "{'acc': [0.9949, 0.99578, 0.99674, 0.99682, 0.99728],\n",
              " 'loss': [0.017395479713581734,\n",
              "  0.013933230639119866,\n",
              "  0.011031157321698484,\n",
              "  0.01016947453363584,\n",
              "  0.008483123413282046],\n",
              " 'val_acc': [0.9964, 0.996, 0.9958, 0.995, 0.9942],\n",
              " 'val_loss': [0.01370383585980162,\n",
              "  0.016182309215824718,\n",
              "  0.018339768290975916,\n",
              "  0.020625766076649687,\n",
              "  0.026437211669510543]}"
            ]
          },
          "metadata": {
            "tags": []
          },
          "execution_count": 30
        }
      ]
    },
    {
      "metadata": {
        "id": "xTmhScYAk5oJ",
        "colab_type": "text"
      },
      "cell_type": "markdown",
      "source": [
        "## plot results"
      ]
    },
    {
      "metadata": {
        "id": "8wp5cCMpifQL",
        "colab_type": "code",
        "colab": {
          "base_uri": "https://localhost:8080/",
          "height": 707
        },
        "outputId": "274f5a8d-37cb-475b-bd7e-7dcb2714985f"
      },
      "cell_type": "code",
      "source": [
        "acc = model.history.history['acc']\n",
        "val_acc = model.history.history['val_acc']\n",
        "loss = model.history.history['loss']\n",
        "val_loss = model.history.history['val_loss']\n",
        "\n",
        "epochs = range(len(acc))\n",
        "\n",
        "plt.plot(epochs,acc,'bo',label='Training accuracy')\n",
        "plt.plot(epochs,val_acc,'b',label = \"valudation accuracy\")\n",
        "plt.title('Training and Validation Accuracy')\n",
        "plt.legend()\n",
        "\n",
        "plt.figure()\n",
        "\n",
        "plt.plot(epochs, loss, 'bo', label='Training loss')\n",
        "plt.plot(epochs, val_loss, 'b', label='Validation loss')\n",
        "plt.title('Training and validation loss')\n",
        "plt.legend()\n",
        "\n",
        "plt.show()"
      ],
      "execution_count": 31,
      "outputs": [
        {
          "output_type": "display_data",
          "data": {
            "image/png": "[encoded data removed]",
            "text/plain": [
              "<Figure size 576x396 with 1 Axes>"
            ]
          },
          "metadata": {
            "tags": []
          }
        },
        {
          "output_type": "display_data",
          "data": {
            "image/png": "[encoded data removed]",
            "text/plain": [
              "<Figure size 576x396 with 1 Axes>"
            ]
          },
          "metadata": {
            "tags": []
          }
        }
      ]
    },
    {
      "metadata": {
        "id": "BEkm4NqFkG3A",
        "colab_type": "code",
        "colab": {}
      },
      "cell_type": "code",
      "source": [
        ""
      ],
      "execution_count": 0,
      "outputs": []
    },
    {
      "metadata": {
        "id": "4B1wRU5WhhXA",
        "colab_type": "text"
      },
      "cell_type": "markdown",
      "source": [
        "# Fashion-MNIST"
      ]
    },
    {
      "metadata": {
        "id": "fGDpgEnAhjcl",
        "colab_type": "code",
        "colab": {}
      },
      "cell_type": "code",
      "source": [
        "from keras.datasets import fashion_mnist"
      ],
      "execution_count": 0,
      "outputs": []
    },
    {
      "metadata": {
        "id": "yha3eayyhnL6",
        "colab_type": "code",
        "colab": {}
      },
      "cell_type": "code",
      "source": [
        "(x_train, y_train), (x_test, y_test) = fashion_mnist.load_data()"
      ],
      "execution_count": 0,
      "outputs": []
    },
    {
      "metadata": {
        "id": "kwNYLmmehtTP",
        "colab_type": "text"
      },
      "cell_type": "markdown",
      "source": [
        "## CNN performance"
      ]
    },
    {
      "metadata": {
        "id": "V4c1MLeHhxcf",
        "colab_type": "code",
        "colab": {}
      },
      "cell_type": "code",
      "source": [
        ""
      ],
      "execution_count": 0,
      "outputs": []
    }
  ]
}