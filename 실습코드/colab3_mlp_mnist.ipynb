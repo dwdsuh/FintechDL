{
  "nbformat": 4,
  "nbformat_minor": 0,
  "metadata": {
    "colab": {
      "name": "MLP_mnist.ipynb",
      "version": "0.3.2",
      "provenance": [],
      "collapsed_sections": [],
      "toc_visible": true
    },
    "kernelspec": {
      "name": "python3",
      "display_name": "Python 3"
    }
  },
  "cells": [
    {
      "metadata": {
        "id": "Il6uJoIBkD8a",
        "colab_type": "text"
      },
      "cell_type": "markdown",
      "source": [
        "# MLP with MNIST"
      ]
    },
    {
      "metadata": {
        "id": "SvtgqxQnjuJT",
        "colab_type": "text"
      },
      "cell_type": "markdown",
      "source": [
        "MNIST dataset을 분류하는 Multi-layer Perceptron을 Keras를 이용하여 작성해보도록 하겠습니다."
      ]
    },
    {
      "metadata": {
        "id": "AcITrncijtRU",
        "colab_type": "code",
        "outputId": "278eb215-3d69-4d1f-dd07-bb1bbfc89587",
        "colab": {
          "base_uri": "https://localhost:8080/",
          "height": 34
        }
      },
      "cell_type": "code",
      "source": [
        "import keras\n",
        "keras.__version__"
      ],
      "execution_count": 0,
      "outputs": [
        {
          "output_type": "execute_result",
          "data": {
            "text/plain": [
              "'2.2.4'"
            ]
          },
          "metadata": {
            "tags": []
          },
          "execution_count": 2
        }
      ]
    },
    {
      "metadata": {
        "id": "5Sc0NEMNw3ZT",
        "colab_type": "text"
      },
      "cell_type": "markdown",
      "source": [
        "Mnist data load"
      ]
    },
    {
      "metadata": {
        "id": "vi5sCpQ6wotE",
        "colab_type": "code",
        "colab": {}
      },
      "cell_type": "code",
      "source": [
        "from keras.datasets import mnist\n",
        "\n",
        "(train_images,train_labels),(test_images, test_labels) = mnist.load_data()"
      ],
      "execution_count": 0,
      "outputs": []
    },
    {
      "metadata": {
        "id": "s-RCU1pCw2GI",
        "colab_type": "code",
        "outputId": "af37c1fd-b2ad-439b-ec7f-527757dc3a3f",
        "colab": {
          "base_uri": "https://localhost:8080/",
          "height": 34
        }
      },
      "cell_type": "code",
      "source": [
        "train_images.shape"
      ],
      "execution_count": 0,
      "outputs": [
        {
          "output_type": "execute_result",
          "data": {
            "text/plain": [
              "(60000, 28, 28)"
            ]
          },
          "metadata": {
            "tags": []
          },
          "execution_count": 4
        }
      ]
    },
    {
      "metadata": {
        "id": "DKC1wmaAxG_Z",
        "colab_type": "text"
      },
      "cell_type": "markdown",
      "source": [
        "Plot images (import matplotlib)"
      ]
    },
    {
      "metadata": {
        "id": "PZ0rp7hyw9yh",
        "colab_type": "code",
        "colab": {}
      },
      "cell_type": "code",
      "source": [
        "import matplotlib.pyplot as plt"
      ],
      "execution_count": 0,
      "outputs": []
    },
    {
      "metadata": {
        "id": "Iao5wzbDxMEW",
        "colab_type": "code",
        "outputId": "7f82343f-be71-4788-a8b6-1a81f637d8e3",
        "colab": {
          "base_uri": "https://localhost:8080/",
          "height": 347
        }
      },
      "cell_type": "code",
      "source": [
        "digit = train_images[0]\n",
        "plt.imshow(digit)\n",
        "plt.show()"
      ],
      "execution_count": 0,
      "outputs": [
        {
          "output_type": "display_data",
          "data": {
            "image/png": "[encoded data removed]",
            "text/plain": [
              "<Figure size 576x396 with 1 Axes>"
            ]
          },
          "metadata": {
            "tags": []
          }
        }
      ]
    },
    {
      "metadata": {
        "id": "5xYjlU9YxZgv",
        "colab_type": "text"
      },
      "cell_type": "markdown",
      "source": [
        "## Construct MLP model"
      ]
    },
    {
      "metadata": {
        "id": "SfESeR0hxX25",
        "colab_type": "text"
      },
      "cell_type": "markdown",
      "source": [
        "simple MLP structure (784-512-10)"
      ]
    },
    {
      "metadata": {
        "id": "PyolztK-xVuO",
        "colab_type": "code",
        "colab": {}
      },
      "cell_type": "code",
      "source": [
        "from keras import models\n",
        "from keras import layers\n",
        "\n",
        "network = models.Sequential()\n",
        "network.add(layers.Dense(512, activation='relu',input_dim = 28*28))\n",
        "network.add(layers.Dense(10,activation='softmax'))"
      ],
      "execution_count": 0,
      "outputs": []
    },
    {
      "metadata": {
        "id": "-DpA98gLyIox",
        "colab_type": "text"
      },
      "cell_type": "markdown",
      "source": [
        "Construct loss function"
      ]
    },
    {
      "metadata": {
        "id": "3Q6oAUUMx3lb",
        "colab_type": "code",
        "colab": {}
      },
      "cell_type": "code",
      "source": [
        "network.compile(optimizer = 'rmsprop',\n",
        "               loss = 'categorical_crossentropy',\n",
        "               metrics=['accuracy'])"
      ],
      "execution_count": 0,
      "outputs": []
    },
    {
      "metadata": {
        "id": "A2Puz29VyZkx",
        "colab_type": "text"
      },
      "cell_type": "markdown",
      "source": [
        "## Data Preprocessing\n",
        "1. input Data\n",
        "  - Normalization: 0~255 -> 0~1\n",
        "  - reshape: (28,28) -> 784\n",
        "2. Categorical labels\n",
        "  - one hot encoding\n"
      ]
    },
    {
      "metadata": {
        "id": "d7P9PIzUyYsV",
        "colab_type": "code",
        "colab": {}
      },
      "cell_type": "code",
      "source": [
        "train_images = train_images.reshape((60000,28*28))\n",
        "train_images = train_images.astype('float32')/255\n",
        "\n",
        "test_images = test_images.reshape((10000,28*28))\n",
        "test_images = test_images.astype('float32')/255"
      ],
      "execution_count": 0,
      "outputs": []
    },
    {
      "metadata": {
        "id": "kVqfrDUJzdRL",
        "colab_type": "code",
        "colab": {}
      },
      "cell_type": "code",
      "source": [
        "from keras.utils import to_categorical\n",
        "\n",
        "train_labels = to_categorical(train_labels)\n",
        "test_labels = to_categorical(test_labels)"
      ],
      "execution_count": 0,
      "outputs": []
    },
    {
      "metadata": {
        "id": "a2DBPyJI68LH",
        "colab_type": "code",
        "colab": {
          "base_uri": "https://localhost:8080/",
          "height": 34
        },
        "outputId": "b95fb5f5-d449-44ba-9541-8e8675972ae7"
      },
      "cell_type": "code",
      "source": [
        "print(train_labels.shape)"
      ],
      "execution_count": 33,
      "outputs": [
        {
          "output_type": "stream",
          "text": [
            "(60000, 10)\n"
          ],
          "name": "stdout"
        }
      ]
    },
    {
      "metadata": {
        "id": "tSBDCQ_AzsOQ",
        "colab_type": "text"
      },
      "cell_type": "markdown",
      "source": [
        "## Train models"
      ]
    },
    {
      "metadata": {
        "id": "qxmS8NQhzpnu",
        "colab_type": "code",
        "colab": {
          "base_uri": "https://localhost:8080/",
          "height": 204
        },
        "outputId": "e94742f3-00b8-4465-f82b-a74943e39f88"
      },
      "cell_type": "code",
      "source": [
        "network.fit(train_images, train_labels, epochs=5, batch_size = 128)"
      ],
      "execution_count": 36,
      "outputs": [
        {
          "output_type": "stream",
          "text": [
            "Epoch 1/5\n",
            "60000/60000 [==============================] - 4s 73us/step - loss: 0.2565 - acc: 0.9259\n",
            "Epoch 2/5\n",
            "60000/60000 [==============================] - 4s 71us/step - loss: 0.1039 - acc: 0.9691\n",
            "Epoch 3/5\n",
            "60000/60000 [==============================] - 4s 70us/step - loss: 0.0690 - acc: 0.9797\n",
            "Epoch 4/5\n",
            "60000/60000 [==============================] - 4s 71us/step - loss: 0.0500 - acc: 0.9844\n",
            "Epoch 5/5\n",
            "60000/60000 [==============================] - 4s 70us/step - loss: 0.0377 - acc: 0.9889\n"
          ],
          "name": "stdout"
        },
        {
          "output_type": "execute_result",
          "data": {
            "text/plain": [
              "<keras.callbacks.History at 0x7f4b7f85fda0>"
            ]
          },
          "metadata": {
            "tags": []
          },
          "execution_count": 36
        }
      ]
    },
    {
      "metadata": {
        "id": "USD9zCUPz0sA",
        "colab_type": "code",
        "colab": {
          "base_uri": "https://localhost:8080/",
          "height": 34
        },
        "outputId": "085601f2-0486-4233-860c-67c7c57787ca"
      },
      "cell_type": "code",
      "source": [
        "test_loss, test_acc = network.evaluate(test_images, test_labels)"
      ],
      "execution_count": 37,
      "outputs": [
        {
          "output_type": "stream",
          "text": [
            "10000/10000 [==============================] - 0s 49us/step\n"
          ],
          "name": "stdout"
        }
      ]
    },
    {
      "metadata": {
        "id": "csQPePV9z_ml",
        "colab_type": "code",
        "colab": {
          "base_uri": "https://localhost:8080/",
          "height": 34
        },
        "outputId": "fc60533f-b28f-4637-f3e5-6fc906ce7c3d"
      },
      "cell_type": "code",
      "source": [
        "print('test_acc', test_acc)"
      ],
      "execution_count": 38,
      "outputs": [
        {
          "output_type": "stream",
          "text": [
            "test_acc 0.9806\n"
          ],
          "name": "stdout"
        }
      ]
    },
    {
      "metadata": {
        "id": "EudM12g22GDn",
        "colab_type": "text"
      },
      "cell_type": "markdown",
      "source": [
        "# Fashion MNIST"
      ]
    },
    {
      "metadata": {
        "id": "-I6uZH572MDz",
        "colab_type": "text"
      },
      "cell_type": "markdown",
      "source": [
        "같은 네트워크로 MNIST 보다 약간 어려운 데이터 셋인 Fashion-mnist set에 대한 분류 문제 해결"
      ]
    },
    {
      "metadata": {
        "id": "q7bw4NbQ0B6-",
        "colab_type": "code",
        "colab": {}
      },
      "cell_type": "code",
      "source": [
        "from keras.datasets import fashion_mnist"
      ],
      "execution_count": 0,
      "outputs": []
    },
    {
      "metadata": {
        "id": "0gJPJnOb2nnu",
        "colab_type": "code",
        "colab": {
          "base_uri": "https://localhost:8080/",
          "height": 173
        },
        "outputId": "5bf11790-daee-4581-9cc1-3e36c1eb3618"
      },
      "cell_type": "code",
      "source": [
        "(x_train, y_train), (x_test, y_test) = fashion_mnist.load_data()"
      ],
      "execution_count": 16,
      "outputs": [
        {
          "output_type": "stream",
          "text": [
            "Downloading data from http://fashion-mnist.s3-website.eu-central-1.amazonaws.com/train-labels-idx1-ubyte.gz\n",
            "32768/29515 [=================================] - 0s 3us/step\n",
            "Downloading data from http://fashion-mnist.s3-website.eu-central-1.amazonaws.com/train-images-idx3-ubyte.gz\n",
            "26427392/26421880 [==============================] - 2s 0us/step\n",
            "Downloading data from http://fashion-mnist.s3-website.eu-central-1.amazonaws.com/t10k-labels-idx1-ubyte.gz\n",
            "8192/5148 [===============================================] - 0s 0us/step\n",
            "Downloading data from http://fashion-mnist.s3-website.eu-central-1.amazonaws.com/t10k-images-idx3-ubyte.gz\n",
            "4423680/4422102 [==============================] - 1s 0us/step\n"
          ],
          "name": "stdout"
        }
      ]
    },
    {
      "metadata": {
        "id": "-Eu7P0rN2son",
        "colab_type": "code",
        "colab": {
          "base_uri": "https://localhost:8080/",
          "height": 347
        },
        "outputId": "491216df-b3bb-43e6-f299-71984fc0bcf2"
      },
      "cell_type": "code",
      "source": [
        "plt.imshow(x_train[0])\n",
        "plt.show()"
      ],
      "execution_count": 17,
      "outputs": [
        {
          "output_type": "display_data",
          "data": {
            "image/png": "[encoded data removed]",
            "text/plain": [
              "<Figure size 576x396 with 1 Axes>"
            ]
          },
          "metadata": {
            "tags": []
          }
        }
      ]
    },
    {
      "metadata": {
        "id": "8HXL4yaR27R6",
        "colab_type": "text"
      },
      "cell_type": "markdown",
      "source": [
        "## Performance\n",
        "\n",
        "1. Training performance\n",
        "2. Test performance"
      ]
    },
    {
      "metadata": {
        "id": "58Gzj92Z202S",
        "colab_type": "code",
        "colab": {}
      },
      "cell_type": "code",
      "source": [
        ""
      ],
      "execution_count": 0,
      "outputs": []
    }
  ]
}